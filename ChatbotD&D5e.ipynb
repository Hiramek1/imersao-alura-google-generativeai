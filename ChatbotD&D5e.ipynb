{
  "nbformat": 4,
  "nbformat_minor": 0,
  "metadata": {
    "colab": {
      "provenance": [],
      "collapsed_sections": [
        "YRecruKQ00kq",
        "kXQCqlRQ4L89",
        "9oa6sXUe9uGI",
        "VKvQMgsNLtLi",
        "5a1nPbiP7ulP",
        "p8sxN06F8ayd",
        "rwOuKTje_097"
      ],
      "authorship_tag": "ABX9TyMsp2tGxfoR87eq17AALMjq",
      "include_colab_link": true
    },
    "kernelspec": {
      "name": "python3",
      "display_name": "Python 3"
    },
    "language_info": {
      "name": "python"
    }
  },
  "cells": [
    {
      "cell_type": "markdown",
      "metadata": {
        "id": "view-in-github",
        "colab_type": "text"
      },
      "source": [
        "<a href=\"https://colab.research.google.com/github/Hiramek1/imersao-alura-google-generativeai/blob/main/ChatbotD%26D5e.ipynb\" target=\"_parent\"><img src=\"https://colab.research.google.com/assets/colab-badge.svg\" alt=\"Open In Colab\"/></a>"
      ]
    },
    {
      "cell_type": "markdown",
      "source": [
        "#Configure service"
      ],
      "metadata": {
        "id": "m9slbEa40vRB"
      }
    },
    {
      "cell_type": "code",
      "source": [
        "!pip install -q -U google-generativeai"
      ],
      "metadata": {
        "id": "fuevvzBMz5A4"
      },
      "execution_count": null,
      "outputs": []
    },
    {
      "cell_type": "markdown",
      "source": [
        "##Configure Key"
      ],
      "metadata": {
        "id": "YRecruKQ00kq"
      }
    },
    {
      "cell_type": "code",
      "execution_count": null,
      "metadata": {
        "id": "wvwFz5Bwz1DN"
      },
      "outputs": [],
      "source": [
        "# Import the Gemini AI\n",
        "import google.generativeai as genai\n",
        "from google.colab import userdata\n",
        "secret_manager = userdata.get('sequoia')\n",
        "genai.configure(api_key=secret_manager)"
      ]
    },
    {
      "cell_type": "markdown",
      "source": [
        "##Parameter configuration"
      ],
      "metadata": {
        "id": "kXQCqlRQ4L89"
      }
    },
    {
      "cell_type": "code",
      "source": [
        "configure_generation = {\n",
        "    \"candidate_count\": 1,\n",
        "    \"temperature\": 1.0\n",
        "}\n",
        "\n",
        "configure_safety = {\n",
        "    \"HARASSMENT\": \"BLOCK_MEDIUM_AND_ABOVE\",\n",
        "    \"HATE\": \"BLOCK_LOW_AND_ABOVE\",\n",
        "    \"SEXUAL\": \"BLOCK_MEDIUM_AND_ABOVE\",\n",
        "    \"DANGEROUS\": \"BLOCK_ONLY_HIGH\"\n",
        "}"
      ],
      "metadata": {
        "id": "q5IUHmFU4TLx"
      },
      "execution_count": null,
      "outputs": []
    },
    {
      "cell_type": "markdown",
      "source": [
        "##Initialize generative model"
      ],
      "metadata": {
        "id": "9oa6sXUe9uGI"
      }
    },
    {
      "cell_type": "code",
      "source": [
        "model = genai.GenerativeModel(model_name=\"gemini-1.0-pro\",\n",
        "                              generation_config=configure_generation,\n",
        "                              safety_settings=configure_safety)"
      ],
      "metadata": {
        "id": "-B3rgz9V9yXe"
      },
      "execution_count": null,
      "outputs": []
    },
    {
      "cell_type": "markdown",
      "source": [
        "##Start chat"
      ],
      "metadata": {
        "id": "VKvQMgsNLtLi"
      }
    },
    {
      "cell_type": "code",
      "source": [
        "chat = model.start_chat(history=[])"
      ],
      "metadata": {
        "id": "1S6x2f0NLwTZ"
      },
      "execution_count": null,
      "outputs": []
    },
    {
      "cell_type": "markdown",
      "source": [
        "#Utils"
      ],
      "metadata": {
        "id": "ohDC4Nwn0zgP"
      }
    },
    {
      "cell_type": "markdown",
      "source": [
        "##Character Sheet"
      ],
      "metadata": {
        "id": "5a1nPbiP7ulP"
      }
    },
    {
      "cell_type": "code",
      "source": [
        "class CharacterSheet:\n",
        "    def __init__(self):\n",
        "        self.stats = {\n",
        "            \"Força\": 10,\n",
        "            \"Destreza\": 10,\n",
        "            \"Constituição\": 10,\n",
        "            \"Inteligência\": 10,\n",
        "            \"Sabedoria\": 10,\n",
        "            \"Carisma\": 10\n",
        "        }\n",
        "\n",
        "    def distribute_points(self):\n",
        "        total_points = 11\n",
        "        print(\"Você tem 11 pontos para distribuir. A pontuação inicial de cada atributo é 10.\")\n",
        "        print(\"Distribua os pontos entre Força, Destreza, Constituição, Inteligência, Sabedoria e Carisma.\")\n",
        "        print(\"Um atributo pode chegar a 16, enquanto os outros podem chegar até 14.\")\n",
        "\n",
        "        while total_points > 0:\n",
        "            print(f\"Pontos restantes: {total_points}\")\n",
        "            for stat in self.stats:\n",
        "                print(f\"{stat}: {self.stats[stat]}\")\n",
        "            chosen_stat = input(\"Escolha um atributo para incrementar: \")\n",
        "            if chosen_stat in self.stats:\n",
        "                increment = int(input(f\"Quantos pontos você deseja adicionar a {chosen_stat}? \"))\n",
        "                if increment <= total_points and 10 <= self.stats[chosen_stat] + increment <= 16:\n",
        "                    if increment + self.stats[chosen_stat] > 14 and chosen_stat != max(self.stats, key=self.stats.get):\n",
        "                        print(\"Apenas um atributo pode ser aumentado até 16.\")\n",
        "                    else:\n",
        "                        self.stats[chosen_stat] += increment\n",
        "                        total_points -= increment\n",
        "                else:\n",
        "                    print(\"Valor inválido. Certifique-se de não exceder o limite de pontos ou atributos.\")\n",
        "            else:\n",
        "                print(\"Atributo não reconhecido.\")\n",
        "        return \"Personagem criado com sucesso:\\n\" + self.__str__()\n",
        "\n",
        "    def __str__(self):\n",
        "        return '\\n'.join(f\"{stat}: {value}\" for stat, value in self.stats.items())"
      ],
      "metadata": {
        "id": "5XTba2PT0HPl"
      },
      "execution_count": null,
      "outputs": []
    },
    {
      "cell_type": "markdown",
      "source": [
        "##Character Manager"
      ],
      "metadata": {
        "id": "p8sxN06F8ayd"
      }
    },
    {
      "cell_type": "code",
      "source": [
        "def manage_character(command, character_sheets, user_id):\n",
        "    if \"criar personagem\" in command.lower():\n",
        "        # Criar uma nova ficha de personagem para o usuário\n",
        "        if user_id not in character_sheets:\n",
        "            character_sheets[user_id] = CharacterSheet()\n",
        "            response = character_sheets[user_id].distribute_points()\n",
        "            return response\n",
        "        else:\n",
        "            return \"Você já tem um personagem criado. Use 'atualizar personagem' para mudar atributos.\"\n",
        "    elif \"atualizar personagem\" in command.lower():\n",
        "        # Atualizar atributos do personagem\n",
        "        if user_id in character_sheets:\n",
        "            parts = command.split()\n",
        "            stat = parts[2]\n",
        "            value = int(parts[3])\n",
        "            response = character_sheets[user_id].update_stat(stat, value)\n",
        "            return response + \"\\n\" + str(character_sheets[user_id])\n",
        "        else:\n",
        "            return \"Nenhum personagem encontrado. Crie um antes de atualizar.\"\n",
        "    else:\n",
        "        return \"Comando não reconhecido para gestão de personagem.\""
      ],
      "metadata": {
        "id": "zhLrMs_y8hVk"
      },
      "execution_count": null,
      "outputs": []
    },
    {
      "cell_type": "markdown",
      "source": [
        "##Dice Roll"
      ],
      "metadata": {
        "id": "AyVVNmqm8ndC"
      }
    },
    {
      "cell_type": "code",
      "source": [
        "def roll_dice(dice_input='1d20'):\n",
        "    if 'd' not in dice_input:\n",
        "        return \"Comando não reconhecido. Use, por exemplo, '/r 1d20'.\"\n",
        "\n",
        "    parts = dice_input.split('d')\n",
        "    if len(parts) != 2 or not all(part.isdigit() for part in parts):\n",
        "        return \"Erro ao processar a rolagem de dados. Certifique-se de usar o formato correto, como '1d20'.\"\n",
        "\n",
        "    number, sides = map(int, parts)\n",
        "    results = [random.randint(1, sides) for _ in range(number)]\n",
        "    total = sum(results)\n",
        "    results_str = \", \".join(map(str, results))\n",
        "    return f\"Rolagem: {results_str} (Total: {total}) com {number}d{sides}\""
      ],
      "metadata": {
        "id": "I3jmRht98pwc"
      },
      "execution_count": null,
      "outputs": []
    },
    {
      "cell_type": "markdown",
      "source": [
        "##Lore generator"
      ],
      "metadata": {
        "id": "heGNKDwR9RDM"
      }
    },
    {
      "cell_type": "code",
      "source": [
        "def generate_description(user_prompt):\n",
        "    prompt = (\"Você está criando uma aventura de D&D. \"\n",
        "              \"Descreva uma história que comece em um navio chegando ao porto, \"\n",
        "              \"onde o jogador está reunido com seu grupo no convés. O capitão sai da cabine anunciando a chegada,\"\n",
        "              \"avista os aventureiros e oferece uma missão que promete tesouros escondidos e perigos antigos. \"\n",
        "              \"Desenvolva uma narrativa envolvente com elementos de magia, monstros e mistério. \"\n",
        "              \"Use status padrão para criar combate, monstros e NPCs. \"\n",
        "              \"Role seu próprio dado e exiba para o jogador.\")\n",
        "    response = chat.send_message(user_prompt)\n",
        "    return response.text"
      ],
      "metadata": {
        "id": "vaG_vs4F9bGB"
      },
      "execution_count": null,
      "outputs": []
    },
    {
      "cell_type": "markdown",
      "source": [
        "##UserId generator"
      ],
      "metadata": {
        "id": "rwOuKTje_097"
      }
    },
    {
      "cell_type": "code",
      "source": [
        "import time\n",
        "\n",
        "def generate_user_id():\n",
        "    timestamp = int(time.time() * 1000)  # milissegundos\n",
        "    random_part = random.randint(1000, 9999)  # um número aleatório de 4 dígitos\n",
        "    return f\"{timestamp}{random_part}\""
      ],
      "metadata": {
        "id": "3ao-tfXE_4wX"
      },
      "execution_count": null,
      "outputs": []
    },
    {
      "cell_type": "markdown",
      "source": [
        "#User Interface"
      ],
      "metadata": {
        "id": "46PE5KGW7LWn"
      }
    },
    {
      "cell_type": "code",
      "source": [
        "import random\n",
        "\n",
        "user_id = generate_user_id()\n",
        "character_sheets = {}\n",
        "\n",
        "def handle_command(prompt):\n",
        "    command_parts = prompt.split()\n",
        "    if \"/r\" in command_parts:\n",
        "        if len(command_parts) > 1:\n",
        "            dice_input = command_parts[1]\n",
        "        else:\n",
        "            dice_input = '1d20'\n",
        "        result = roll_dice(dice_input)\n",
        "        return f\"Resultado da rolagem: {result}\"\n",
        "    elif \"personagem\" in prompt:\n",
        "        return manage_character(prompt, character_sheets, user_id)\n",
        "    else:\n",
        "        return generate_description(prompt)\n",
        "\n",
        "prompt = input(\"Olá, vamos jogar D&D? \\nDigite sair a qualquer momento para parar. \\nEscolha entre criar personagem, gerar história ou rolar um dado.\\n\")\n",
        "\n",
        "while prompt.lower() != \"sair\":\n",
        "    response = handle_command(prompt)\n",
        "    print(response, \"\\n\")\n",
        "    prompt = input(\"Digite algo: \")"
      ],
      "metadata": {
        "id": "pB3y9SII7zGS"
      },
      "execution_count": null,
      "outputs": []
    }
  ]
}