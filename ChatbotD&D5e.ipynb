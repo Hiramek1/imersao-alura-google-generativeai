{
  "nbformat": 4,
  "nbformat_minor": 0,
  "metadata": {
    "colab": {
      "provenance": [],
      "collapsed_sections": [
        "YRecruKQ00kq",
        "kXQCqlRQ4L89",
        "9oa6sXUe9uGI",
        "VKvQMgsNLtLi",
        "5a1nPbiP7ulP",
        "p8sxN06F8ayd",
        "rwOuKTje_097"
      ],
      "authorship_tag": "ABX9TyMsp2tGxfoR87eq17AALMjq",
      "include_colab_link": true
    },
    "kernelspec": {
      "name": "python3",
      "display_name": "Python 3"
    },
    "language_info": {
      "name": "python"
    }
  },
  "cells": [
    {
      "cell_type": "markdown",
      "metadata": {
        "id": "view-in-github",
        "colab_type": "text"
      },
      "source": [
        "<a href=\"https://colab.research.google.com/github/Hiramek1/imersao-alura-google-generativeai/blob/main/ChatbotD%26D5e.ipynb\" target=\"_parent\"><img src=\"https://colab.research.google.com/assets/colab-badge.svg\" alt=\"Open In Colab\"/></a>"
      ]
    },
    {
      "cell_type": "markdown",
      "source": [
        "#Configure service"
      ],
      "metadata": {
        "id": "m9slbEa40vRB"
      }
    },
    {
      "cell_type": "code",
      "source": [
        "!pip install -q -U google-generativeai"
      ],
      "metadata": {
        "id": "fuevvzBMz5A4"
      },
      "execution_count": null,
      "outputs": []
    },
    {
      "cell_type": "markdown",
      "source": [
        "##Configure Key"
      ],
      "metadata": {
        "id": "YRecruKQ00kq"
      }
    },
    {
      "cell_type": "code",
      "execution_count": null,
      "metadata": {
        "id": "wvwFz5Bwz1DN"
      },
      "outputs": [],
      "source": [
        "# Import the Gemini AI\n",
        "import google.generativeai as genai\n",
        "from google.colab import userdata\n",
        "secret_manager = userdata.get('sequoia')\n",
        "genai.configure(api_key=secret_manager)"
      ]
    },
    {
      "cell_type": "markdown",
      "source": [
        "##Parameter configuration"
      ],
      "metadata": {
        "id": "kXQCqlRQ4L89"
      }
    },
    {
      "cell_type": "code",
      "source": [
        "configure_generation = {\n",
        "    \"candidate_count\": 1,\n",
        "    \"temperature\": 1.0\n",
        "}\n",
        "\n",
        "configure_safety = {\n",
        "    \"HARASSMENT\": \"BLOCK_MEDIUM_AND_ABOVE\",\n",
        "    \"HATE\": \"BLOCK_LOW_AND_ABOVE\",\n",
        "    \"SEXUAL\": \"BLOCK_MEDIUM_AND_ABOVE\",\n",
        "    \"DANGEROUS\": \"BLOCK_ONLY_HIGH\"\n",
        "}"
      ],
      "metadata": {
        "id": "q5IUHmFU4TLx"
      },
      "execution_count": null,
      "outputs": []
    },
    {
      "cell_type": "markdown",
      "source": [
        "##Initialize generative model"
      ],
      "metadata": {
        "id": "9oa6sXUe9uGI"
      }
    },
    {
      "cell_type": "code",
      "source": [
        "model = genai.GenerativeModel(model_name=\"gemini-1.0-pro\",\n",
        "                              generation_config=configure_generation,\n",
        "                              safety_settings=configure_safety)"
      ],
      "metadata": {
        "id": "-B3rgz9V9yXe"
      },
      "execution_count": null,
      "outputs": []
    },
    {
      "cell_type": "markdown",
      "source": [
        "##Start chat"
      ],
      "metadata": {
        "id": "VKvQMgsNLtLi"
      }
    },
    {
      "cell_type": "code",
      "source": [
        "chat = model.start_chat(history=[])"
      ],
      "metadata": {
        "id": "1S6x2f0NLwTZ"
      },
      "execution_count": null,
      "outputs": []
    },
    {
      "cell_type": "markdown",
      "source": [
        "#Utils"
      ],
      "metadata": {
        "id": "ohDC4Nwn0zgP"
      }
    },
    {
      "cell_type": "markdown",
      "source": [
        "##Character Sheet"
      ],
      "metadata": {
        "id": "5a1nPbiP7ulP"
      }
    },
    {
      "cell_type": "code",
      "source": [
        "class CharacterSheet:\n",
        "    def __init__(self):\n",
        "        self.stats = {\n",
        "            \"Força\": 10,\n",
        "            \"Destreza\": 10,\n",
        "            \"Constituição\": 10,\n",
        "            \"Inteligência\": 10,\n",
        "            \"Sabedoria\": 10,\n",
        "            \"Carisma\": 10\n",
        "        }\n",
        "\n",
        "    def distribute_points(self):\n",
        "        total_points = 11\n",
        "        print(\"Você tem 11 pontos para distribuir. A pontuação inicial de cada atributo é 10.\")\n",
        "        print(\"Distribua os pontos entre Força, Destreza, Constituição, Inteligência, Sabedoria e Carisma.\")\n",
        "        print(\"Um atributo pode chegar a 16, enquanto os outros podem chegar até 14.\")\n",
        "\n",
        "        while total_points > 0:\n",
        "            print(f\"Pontos restantes: {total_points}\")\n",
        "            for stat in self.stats:\n",
        "                print(f\"{stat}: {self.stats[stat]}\")\n",
        "            chosen_stat = input(\"Escolha um atributo para incrementar: \")\n",
        "            if chosen_stat in self.stats:\n",
        "                increment = int(input(f\"Quantos pontos você deseja adicionar a {chosen_stat}? \"))\n",
        "                if increment <= total_points and 10 <= self.stats[chosen_stat] + increment <= 16:\n",
        "                    if increment + self.stats[chosen_stat] > 14 and chosen_stat != max(self.stats, key=self.stats.get):\n",
        "                        print(\"Apenas um atributo pode ser aumentado até 16.\")\n",
        "                    else:\n",
        "                        self.stats[chosen_stat] += increment\n",
        "                        total_points -= increment\n",
        "                else:\n",
        "                    print(\"Valor inválido. Certifique-se de não exceder o limite de pontos ou atributos.\")\n",
        "            else:\n",
        "                print(\"Atributo não reconhecido.\")\n",
        "        return \"Personagem criado com sucesso:\\n\" + self.__str__()\n",
        "\n",
        "    def __str__(self):\n",
        "        return '\\n'.join(f\"{stat}: {value}\" for stat, value in self.stats.items())"
      ],
      "metadata": {
        "id": "5XTba2PT0HPl"
      },
      "execution_count": null,
      "outputs": []
    },
    {
      "cell_type": "markdown",
      "source": [
        "##Character Manager"
      ],
      "metadata": {
        "id": "p8sxN06F8ayd"
      }
    },
    {
      "cell_type": "code",
      "source": [
        "def manage_character(command, character_sheets, user_id):\n",
        "    if \"criar personagem\" in command.lower():\n",
        "        # Criar uma nova ficha de personagem para o usuário\n",
        "        if user_id not in character_sheets:\n",
        "            character_sheets[user_id] = CharacterSheet()\n",
        "            response = character_sheets[user_id].distribute_points()\n",
        "            return response\n",
        "        else:\n",
        "            return \"Você já tem um personagem criado. Use 'atualizar personagem' para mudar atributos.\"\n",
        "    elif \"atualizar personagem\" in command.lower():\n",
        "        # Atualizar atributos do personagem\n",
        "        if user_id in character_sheets:\n",
        "            parts = command.split()\n",
        "            stat = parts[2]\n",
        "            value = int(parts[3])\n",
        "            response = character_sheets[user_id].update_stat(stat, value)\n",
        "            return response + \"\\n\" + str(character_sheets[user_id])\n",
        "        else:\n",
        "            return \"Nenhum personagem encontrado. Crie um antes de atualizar.\"\n",
        "    else:\n",
        "        return \"Comando não reconhecido para gestão de personagem.\""
      ],
      "metadata": {
        "id": "zhLrMs_y8hVk"
      },
      "execution_count": null,
      "outputs": []
    },
    {
      "cell_type": "markdown",
      "source": [
        "##Dice Roll"
      ],
      "metadata": {
        "id": "AyVVNmqm8ndC"
      }
    },
    {
      "cell_type": "code",
      "source": [
        "def roll_dice(dice_input='1d20'):\n",
        "    if 'd' not in dice_input:\n",
        "        return \"Comando não reconhecido. Use, por exemplo, '/r 1d20'.\"\n",
        "\n",
        "    parts = dice_input.split('d')\n",
        "    if len(parts) != 2 or not all(part.isdigit() for part in parts):\n",
        "        return \"Erro ao processar a rolagem de dados. Certifique-se de usar o formato correto, como '1d20'.\"\n",
        "\n",
        "    number, sides = map(int, parts)\n",
        "    results = [random.randint(1, sides) for _ in range(number)]\n",
        "    total = sum(results)\n",
        "    results_str = \", \".join(map(str, results))\n",
        "    return f\"Rolagem: {results_str} (Total: {total}) com {number}d{sides}\""
      ],
      "metadata": {
        "id": "I3jmRht98pwc"
      },
      "execution_count": null,
      "outputs": []
    },
    {
      "cell_type": "markdown",
      "source": [
        "##Lore generator"
      ],
      "metadata": {
        "id": "heGNKDwR9RDM"
      }
    },
    {
      "cell_type": "code",
      "source": [
        "def generate_description(user_prompt):\n",
        "    prompt = (\"Você está criando uma aventura de D&D. \"\n",
        "              \"Descreva uma história que comece em um navio chegando ao porto, \"\n",
        "              \"onde o jogador está reunido com seu grupo no convés. O capitão sai da cabine anunciando a chegada,\"\n",
        "              \"avista os aventureiros e oferece uma missão que promete tesouros escondidos e perigos antigos. \"\n",
        "              \"Desenvolva uma narrativa envolvente com elementos de magia, monstros e mistério. \"\n",
        "              \"Use status padrão para criar combate, monstros e NPCs. \"\n",
        "              \"Role seu próprio dado e exiba para o jogador.\")\n",
        "    response = chat.send_message(user_prompt)\n",
        "    return response.text"
      ],
      "metadata": {
        "id": "vaG_vs4F9bGB"
      },
      "execution_count": null,
      "outputs": []
    },
    {
      "cell_type": "markdown",
      "source": [
        "##UserId generator"
      ],
      "metadata": {
        "id": "rwOuKTje_097"
      }
    },
    {
      "cell_type": "code",
      "source": [
        "import time\n",
        "\n",
        "def generate_user_id():\n",
        "    timestamp = int(time.time() * 1000)  # milissegundos\n",
        "    random_part = random.randint(1000, 9999)  # um número aleatório de 4 dígitos\n",
        "    return f\"{timestamp}{random_part}\""
      ],
      "metadata": {
        "id": "3ao-tfXE_4wX"
      },
      "execution_count": null,
      "outputs": []
    },
    {
      "cell_type": "markdown",
      "source": [
        "#User Interface"
      ],
      "metadata": {
        "id": "46PE5KGW7LWn"
      }
    },
    {
      "cell_type": "code",
      "source": [
        "import random\n",
        "\n",
        "user_id = generate_user_id()\n",
        "character_sheets = {}\n",
        "\n",
        "def handle_command(prompt):\n",
        "    command_parts = prompt.split()\n",
        "    if \"/r\" in command_parts:\n",
        "        if len(command_parts) > 1:\n",
        "            dice_input = command_parts[1]\n",
        "        else:\n",
        "            dice_input = '1d20'\n",
        "        result = roll_dice(dice_input)\n",
        "        return f\"Resultado da rolagem: {result}\"\n",
        "    elif \"personagem\" in prompt:\n",
        "        return manage_character(prompt, character_sheets, user_id)\n",
        "    else:\n",
        "        return generate_description(prompt)\n",
        "\n",
        "prompt = input(\"Olá, vamos jogar D&D? \\nDigite sair a qualquer momento para parar. \\nEscolha entre criar personagem, gerar história ou rolar um dado.\\n\")\n",
        "\n",
        "while prompt.lower() != \"sair\":\n",
        "    response = handle_command(prompt)\n",
        "    print(response, \"\\n\")\n",
        "    prompt = input(\"Digite algo: \")"
      ],
      "metadata": {
        "colab": {
          "base_uri": "https://localhost:8080/",
          "height": 1000
        },
        "collapsed": true,
        "id": "pB3y9SII7zGS",
        "outputId": "6a7d2a28-9a25-4340-99f3-79d86a14fefc"
      },
      "execution_count": null,
      "outputs": [
        {
          "output_type": "stream",
          "name": "stdout",
          "text": [
            "Olá, vamos jogar D&D? \n",
            "Digite sair a qualquer momento para parar. \n",
            "Escolha entre criar personagem, gerar história ou rolar um dado.\n",
            "Gere um README.md para o Github com as suas configurações\n",
            "caiu no generate_description\n",
            "**README.md para Configurações do GitHub**\n",
            "\n",
            "**Configurações Gerais**\n",
            "\n",
            "* **Nome do Usuário:** Seu nome de usuário do GitHub\n",
            "* **Nome do Repositório:** O nome do repositório\n",
            "* **Descrição:** Uma breve descrição do repositório\n",
            "\n",
            "**Configurações de CI/CD**\n",
            "\n",
            "* **CI:** Se você usa um serviço de CI, como GitHub Actions ou Travis CI, especifique o serviço e o arquivo de configuração aqui.\n",
            "* **CD:** Se você usa um serviço de CD, como GitHub Pages ou Netlify, especifique o serviço e o arquivo de configuração aqui.\n",
            "\n",
            "**Configurações de Linguagem e Estilo**\n",
            "\n",
            "* **Linguagem Principal:** A linguagem de programação principal usada no projeto.\n",
            "* **Estilo de Código:** O estilo de código que você segue, como PEP8 para Python ou PSR-2 para PHP.\n",
            "* **Ferramentas de Formatação:** Quaisquer ferramentas de formatação de código que você usa, como Prettier ou ESLint.\n",
            "\n",
            "**Configurações de Documentação**\n",
            "\n",
            "* **Documentação:** Onde sua documentação está localizada, como um wiki do GitHub ou um site externo.\n",
            "* **Guia de Contribuição:** Um guia sobre como contribuir para o projeto.\n",
            "* **Licença:** A licença sob a qual seu projeto é lançado.\n",
            "\n",
            "**Configurações de Colaboração**\n",
            "\n",
            "* **Colaboradores:** Uma lista de colaboradores no projeto.\n",
            "* **Papéis e Permissões:** Quais papéis e permissões os colaboradores têm no repositório.\n",
            "* **Regras de Branch:** Quais regras são aplicadas aos branches, como proteção de branch ou revisão de código obrigatória.\n",
            "\n",
            "**Configurações de Comunidade**\n",
            "\n",
            "* **Fórum:** Um fórum ou canal do Discord onde os usuários podem discutir o projeto.\n",
            "* **Suporte:** Informações sobre como obter suporte para o projeto.\n",
            "* **Código de Conduta:** Um código de conduta que define as expectativas de comportamento da comunidade.\n",
            "\n",
            "**Configurações Adicionais**\n",
            "\n",
            "* **Modelos:** Quais modelos de issue ou pull request você está usando.\n",
            "* **Segredos:** Quais segredos estão configurados no repositório e como acessá-los.\n",
            "* **Webhooks:** Quais webhooks estão configurados no repositório e para quais eventos eles são acionados.\n",
            "\n",
            "**Exemplo de README.md**\n",
            "\n",
            "```md\n",
            "# Meu Projeto no GitHub\n",
            "\n",
            "## Configurações Gerais\n",
            "\n",
            "* Nome do Usuário: githubuser\n",
            "* Nome do Repositório: meu-projeto\n",
            "* Descrição: Este é o meu projeto no GitHub.\n",
            "\n",
            "## Configurações de CI/CD\n",
            "\n",
            "* CI: GitHub Actions (`.github/workflows/ci.yml`)\n",
            "* CD: Nenhum\n",
            "\n",
            "## Configurações de Linguagem e Estilo\n",
            "\n",
            "* Linguagem Principal: Python\n",
            "* Estilo de Código: PEP8\n",
            "* Ferramentas de Formatação: Prettier\n",
            "\n",
            "## Configurações de Documentação\n",
            "\n",
            "* Documentação: https://github.com/githubuser/meu-projeto/wiki\n",
            "* Guia de Contribuição: https://github.com/githubuser/meu-projeto/blob/main/CONTRIBUTING.md\n",
            "* Licença: MIT\n",
            "\n",
            "## Configurações de Colaboração\n",
            "\n",
            "* Colaboradores: githubuser1, githubuser2\n",
            "* Papéis e Permissões:\n",
            "    * githubuser: Administrador\n",
            "    * githubuser1: Colaborador\n",
            "    * githubuser2: Colaborador\n",
            "* Regras de Branch:\n",
            "    * Proteção de branch ativada\n",
            "    * Revisão de código obrigatória\n",
            "\n",
            "## Configurações de Comunidade\n",
            "\n",
            "* Fórum: https://discourse.example.com/c/meu-projeto\n",
            "* Suporte: Crie uma issue no GitHub\n",
            "* Código de Conduta: https://github.com/githubuser/meu-projeto/blob/main/CODE_OF_CONDUCT.md\n",
            "\n",
            "## Configurações Adicionais\n",
            "\n",
            "* Modelos:\n",
            "    * Issue: `.github/ISSUE_TEMPLATE.md`\n",
            "    * Pull Request: `.github/PULL_REQUEST_TEMPLATE.md`\n",
            "* Segredos: Nenhum\n",
            "* Webhooks: Nenhum\n",
            "``` \n",
            "\n"
          ]
        },
        {
          "output_type": "error",
          "ename": "KeyboardInterrupt",
          "evalue": "Interrupted by user",
          "traceback": [
            "\u001b[0;31m---------------------------------------------------------------------------\u001b[0m",
            "\u001b[0;31mKeyboardInterrupt\u001b[0m                         Traceback (most recent call last)",
            "\u001b[0;32m<ipython-input-103-213cd473c2c0>\u001b[0m in \u001b[0;36m<cell line: 22>\u001b[0;34m()\u001b[0m\n\u001b[1;32m     23\u001b[0m     \u001b[0mresponse\u001b[0m \u001b[0;34m=\u001b[0m \u001b[0mhandle_command\u001b[0m\u001b[0;34m(\u001b[0m\u001b[0mprompt\u001b[0m\u001b[0;34m)\u001b[0m\u001b[0;34m\u001b[0m\u001b[0;34m\u001b[0m\u001b[0m\n\u001b[1;32m     24\u001b[0m     \u001b[0mprint\u001b[0m\u001b[0;34m(\u001b[0m\u001b[0mresponse\u001b[0m\u001b[0;34m,\u001b[0m \u001b[0;34m\"\\n\"\u001b[0m\u001b[0;34m)\u001b[0m\u001b[0;34m\u001b[0m\u001b[0;34m\u001b[0m\u001b[0m\n\u001b[0;32m---> 25\u001b[0;31m     \u001b[0mprompt\u001b[0m \u001b[0;34m=\u001b[0m \u001b[0minput\u001b[0m\u001b[0;34m(\u001b[0m\u001b[0;34m\"Digite algo: \"\u001b[0m\u001b[0;34m)\u001b[0m\u001b[0;34m\u001b[0m\u001b[0;34m\u001b[0m\u001b[0m\n\u001b[0m",
            "\u001b[0;32m/usr/local/lib/python3.10/dist-packages/ipykernel/kernelbase.py\u001b[0m in \u001b[0;36mraw_input\u001b[0;34m(self, prompt)\u001b[0m\n\u001b[1;32m    849\u001b[0m                 \u001b[0;34m\"raw_input was called, but this frontend does not support input requests.\"\u001b[0m\u001b[0;34m\u001b[0m\u001b[0;34m\u001b[0m\u001b[0m\n\u001b[1;32m    850\u001b[0m             )\n\u001b[0;32m--> 851\u001b[0;31m         return self._input_request(str(prompt),\n\u001b[0m\u001b[1;32m    852\u001b[0m             \u001b[0mself\u001b[0m\u001b[0;34m.\u001b[0m\u001b[0m_parent_ident\u001b[0m\u001b[0;34m,\u001b[0m\u001b[0;34m\u001b[0m\u001b[0;34m\u001b[0m\u001b[0m\n\u001b[1;32m    853\u001b[0m             \u001b[0mself\u001b[0m\u001b[0;34m.\u001b[0m\u001b[0m_parent_header\u001b[0m\u001b[0;34m,\u001b[0m\u001b[0;34m\u001b[0m\u001b[0;34m\u001b[0m\u001b[0m\n",
            "\u001b[0;32m/usr/local/lib/python3.10/dist-packages/ipykernel/kernelbase.py\u001b[0m in \u001b[0;36m_input_request\u001b[0;34m(self, prompt, ident, parent, password)\u001b[0m\n\u001b[1;32m    893\u001b[0m             \u001b[0;32mexcept\u001b[0m \u001b[0mKeyboardInterrupt\u001b[0m\u001b[0;34m:\u001b[0m\u001b[0;34m\u001b[0m\u001b[0;34m\u001b[0m\u001b[0m\n\u001b[1;32m    894\u001b[0m                 \u001b[0;31m# re-raise KeyboardInterrupt, to truncate traceback\u001b[0m\u001b[0;34m\u001b[0m\u001b[0;34m\u001b[0m\u001b[0m\n\u001b[0;32m--> 895\u001b[0;31m                 \u001b[0;32mraise\u001b[0m \u001b[0mKeyboardInterrupt\u001b[0m\u001b[0;34m(\u001b[0m\u001b[0;34m\"Interrupted by user\"\u001b[0m\u001b[0;34m)\u001b[0m \u001b[0;32mfrom\u001b[0m \u001b[0;32mNone\u001b[0m\u001b[0;34m\u001b[0m\u001b[0;34m\u001b[0m\u001b[0m\n\u001b[0m\u001b[1;32m    896\u001b[0m             \u001b[0;32mexcept\u001b[0m \u001b[0mException\u001b[0m \u001b[0;32mas\u001b[0m \u001b[0me\u001b[0m\u001b[0;34m:\u001b[0m\u001b[0;34m\u001b[0m\u001b[0;34m\u001b[0m\u001b[0m\n\u001b[1;32m    897\u001b[0m                 \u001b[0mself\u001b[0m\u001b[0;34m.\u001b[0m\u001b[0mlog\u001b[0m\u001b[0;34m.\u001b[0m\u001b[0mwarning\u001b[0m\u001b[0;34m(\u001b[0m\u001b[0;34m\"Invalid Message:\"\u001b[0m\u001b[0;34m,\u001b[0m \u001b[0mexc_info\u001b[0m\u001b[0;34m=\u001b[0m\u001b[0;32mTrue\u001b[0m\u001b[0;34m)\u001b[0m\u001b[0;34m\u001b[0m\u001b[0;34m\u001b[0m\u001b[0m\n",
            "\u001b[0;31mKeyboardInterrupt\u001b[0m: Interrupted by user"
          ]
        }
      ]
    }
  ]
}